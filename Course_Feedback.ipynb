{
  "nbformat": 4,
  "nbformat_minor": 0,
  "metadata": {
    "colab": {
      "provenance": [],
      "authorship_tag": "ABX9TyMn775YNsNwWx/0c+GIJVLX",
      "include_colab_link": true
    },
    "kernelspec": {
      "name": "python3",
      "display_name": "Python 3"
    },
    "language_info": {
      "name": "python"
    }
  },
  "cells": [
    {
      "cell_type": "markdown",
      "metadata": {
        "id": "view-in-github",
        "colab_type": "text"
      },
      "source": [
        "<a href=\"https://colab.research.google.com/github/noelmathen/RSMS-Course-Feedback-Automation/blob/main/Course_Feedback.ipynb\" target=\"_parent\"><img src=\"https://colab.research.google.com/assets/colab-badge.svg\" alt=\"Open In Colab\"/></a>"
      ]
    },
    {
      "cell_type": "code",
      "source": [
        "!pip install selenium pandas"
      ],
      "metadata": {
        "id": "3cO8X-oxClPg"
      },
      "execution_count": null,
      "outputs": []
    },
    {
      "cell_type": "code",
      "source": [
        "!apt-get update\n",
        "!apt-get install chromium chromium-driver"
      ],
      "metadata": {
        "id": "q3BK-HuZC8MB"
      },
      "execution_count": null,
      "outputs": []
    },
    {
      "cell_type": "code",
      "source": [
        "def web_driver():\n",
        "    options = webdriver.ChromeOptions()\n",
        "    options.add_argument(\"--verbose\")\n",
        "    options.add_argument('--no-sandbox')\n",
        "    options.add_argument('--headless')\n",
        "    options.add_argument('--disable-gpu')\n",
        "    options.add_argument(\"--window-size=1920, 1200\")\n",
        "    options.add_argument('--disable-dev-shm-usage')\n",
        "    driver = webdriver.Chrome(options=options)\n",
        "    return driver"
      ],
      "metadata": {
        "id": "FifAxbvdDtXo"
      },
      "execution_count": 5,
      "outputs": []
    },
    {
      "cell_type": "code",
      "source": [
        "from selenium import webdriver\n",
        "from selenium.webdriver.chrome.service import Service as ChromeService\n",
        "from selenium.webdriver.common.by import By\n",
        "from selenium.webdriver.support.ui import Select\n",
        "from selenium.webdriver.support.ui import WebDriverWait\n",
        "from selenium.webdriver.support import expected_conditions as EC\n",
        "from selenium.common.exceptions import NoSuchElementException\n",
        "import time\n",
        "\n",
        "def select_feedback_options(driver):\n",
        "    while(1):\n",
        "        driver.find_element(By.XPATH, \"//input[@value='5']\").click()\n",
        "        time.sleep(2)\n",
        "        nextButton = WebDriverWait(driver, 10).until(EC.visibility_of_element_located((By.XPATH, \"//input[@type='submit']\")))\n",
        "        nextButton.click()\n",
        "        WebDriverWait(driver, 10).until(EC.presence_of_element_located((By.XPATH, \"//input[@type='submit']\")))\n",
        "\n",
        "        try:\n",
        "            dropdown = Select(driver.find_element(By.NAME, \"Subject\"))\n",
        "            time.sleep(2)\n",
        "            return\n",
        "        except NoSuchElementException:\n",
        "            time.sleep(2)\n",
        "            continue\n",
        "\n",
        "username = input(\"Enter your uid: \")\n",
        "password = input(\"Enter your password: \")\n",
        "\n",
        "try:\n",
        "    print(\"Logging in to you rsms account...\")\n",
        "    driver = web_driver()\n",
        "    # driver.maximize_window()\n",
        "    driver.get(\"https://www.rajagiritech.ac.in/stud/ktu/student/\")\n",
        "    driver.find_element(By.NAME, \"Userid\").send_keys(username)\n",
        "    driver.find_element(By.NAME, \"Password\").send_keys(password)\n",
        "    driver.find_element(By.XPATH, \"//input[@type='submit']\").click()\n",
        "    try:\n",
        "        driver.find_element(By.LINK_TEXT, \"Course Feedback\").click()\n",
        "    except NoSuchElementException:\n",
        "        print(\"Incorrect credentials\")\n",
        "        raise SystemExit\n",
        "    print(\"Successfully logged in...\\n\")\n",
        "\n",
        "    driver.find_element(By.NAME, \"Userid\").send_keys(username)\n",
        "    driver.find_element(By.NAME, \"Pass\").send_keys(password)\n",
        "    WebDriverWait(driver, 10).until(EC.presence_of_element_located((By.XPATH, \"//input[@type='submit']\")))\n",
        "    driver.find_element(By.XPATH, \"//input[@type='submit']\").click()\n",
        "    WebDriverWait(driver, 10).until(EC.presence_of_element_located((By.XPATH, \"//input[@type='submit']\")))\n",
        "\n",
        "    dropdown = Select(driver.find_element(By.NAME, \"Subject\"))\n",
        "    options = [option.get_attribute(\"value\") for option in dropdown.options]\n",
        "\n",
        "    for optionn in options:\n",
        "        try:\n",
        "            dropdown = Select(driver.find_element(By.NAME, \"Subject\"))\n",
        "            dropdown.select_by_value(optionn)\n",
        "\n",
        "            time.sleep(2)\n",
        "            driver.find_element(By.XPATH, \"//input[@type='submit']\").click()\n",
        "\n",
        "            try:\n",
        "                driver.find_element(By.XPATH, \"//input[@type='submit']\")\n",
        "            except NoSuchElementException:\n",
        "                print(f\"Questions not added by Teacher for {optionn}\")\n",
        "                driver.back()\n",
        "                time.sleep(2)\n",
        "                continue\n",
        "\n",
        "\n",
        "            select_feedback_options(driver)\n",
        "            print(f\"Feedback for {optionn} completed\")\n",
        "\n",
        "        except NoSuchElementException as e:\n",
        "            print(f\"No sych element found: {e}\")\n",
        "            break\n",
        "\n",
        "        except Exception as e:\n",
        "            print(f\"An unexpected error occurred: {e}\")\n",
        "            break\n",
        "\n",
        "finally:\n",
        "    time.sleep(0.5)\n",
        "    print(\"\\nFeedback process completed.\")\n",
        "    driver.quit()"
      ],
      "metadata": {
        "id": "7Ej573meCjNg"
      },
      "execution_count": null,
      "outputs": []
    }
  ]
}